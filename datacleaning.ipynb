{
 "metadata": {
  "language_info": {
   "codemirror_mode": {
    "name": "ipython",
    "version": 3
   },
   "file_extension": ".py",
   "mimetype": "text/x-python",
   "name": "python",
   "nbconvert_exporter": "python",
   "pygments_lexer": "ipython3",
   "version": "3.7.0-final"
  },
  "orig_nbformat": 2,
  "kernelspec": {
   "name": "python3",
   "display_name": "Python 3.7.0 32-bit",
   "metadata": {
    "interpreter": {
     "hash": "a9f0e5242b76620d354f2acae913d66ded7e850a66e3cb2e130e3aa882d33a20"
    }
   }
  }
 },
 "nbformat": 4,
 "nbformat_minor": 2,
 "cells": [
  {
   "cell_type": "code",
   "execution_count": 277,
   "metadata": {},
   "outputs": [],
   "source": [
    "import pandas as pd\n",
    "import numpy as np\n"
   ]
  },
  {
   "cell_type": "code",
   "execution_count": 278,
   "metadata": {},
   "outputs": [],
   "source": [
    "df = pd.read_csv(\"train.csv\")"
   ]
  },
  {
   "cell_type": "code",
   "execution_count": 279,
   "metadata": {},
   "outputs": [],
   "source": [
    "#Getting the title from the names\n",
    "title = df['Name'].apply(lambda x: x.split(',')[1]).apply(lambda x: x.split('.')[0]).apply(lambda x: x[1:])"
   ]
  },
  {
   "cell_type": "code",
   "execution_count": 280,
   "metadata": {},
   "outputs": [],
   "source": [
    "df['Title'] = title"
   ]
  },
  {
   "cell_type": "code",
   "execution_count": 281,
   "metadata": {},
   "outputs": [],
   "source": [
    "#getiing the cabin alphabet from the cabin variable\n",
    "cabin = df['Cabin'].apply(lambda x: str(x)[0])"
   ]
  },
  {
   "cell_type": "code",
   "execution_count": 282,
   "metadata": {},
   "outputs": [],
   "source": [
    "cabin = cabin.apply(lambda x: x if str(x) != 'n' else None)"
   ]
  },
  {
   "cell_type": "code",
   "execution_count": 283,
   "metadata": {},
   "outputs": [],
   "source": [
    "df['CabinAlpha'] = cabin"
   ]
  },
  {
   "cell_type": "code",
   "execution_count": 284,
   "metadata": {},
   "outputs": [
    {
     "output_type": "execute_result",
     "data": {
      "text/plain": [
       "Title\n",
       "Capt            70.000000\n",
       "Col             58.000000\n",
       "Don             40.000000\n",
       "Dr              42.000000\n",
       "Jonkheer        38.000000\n",
       "Lady            48.000000\n",
       "Major           48.500000\n",
       "Master           4.574167\n",
       "Miss            21.773973\n",
       "Mlle            24.000000\n",
       "Mme             24.000000\n",
       "Mr              32.368090\n",
       "Mrs             35.898148\n",
       "Ms              28.000000\n",
       "Rev             43.166667\n",
       "Sir             49.000000\n",
       "the Countess    33.000000\n",
       "Name: Age, dtype: float64"
      ]
     },
     "metadata": {},
     "execution_count": 284
    }
   ],
   "source": [
    "#removing null values in age\n",
    "df.groupby('Title')['Age'].mean()"
   ]
  },
  {
   "cell_type": "code",
   "execution_count": 285,
   "metadata": {},
   "outputs": [],
   "source": [
    "df.loc[(df.Age.isnull()) & (df.Title == 'Capt'), 'Age'] = 70\n",
    "df.loc[(df.Age.isnull()) & (df.Title == 'Col'), 'Age'] = 58\n",
    "df.loc[(df.Age.isnull()) & (df.Title == 'Don'), 'Age'] = 40\n",
    "df.loc[(df.Age.isnull()) & (df.Title == 'Dr'), 'Age'] = 42\n",
    "df.loc[(df.Age.isnull()) & (df.Title == 'Jonkheer'), 'Age'] = 38\n",
    "df.loc[(df.Age.isnull()) & (df.Title == 'Lady'), 'Age'] = 48\n",
    "df.loc[(df.Age.isnull()) & (df.Title == 'Major'), 'Age'] = 49\n",
    "df.loc[(df.Age.isnull()) & (df.Title == 'Master'), 'Age'] = 5\n",
    "df.loc[(df.Age.isnull()) & (df.Title == 'Miss'), 'Age'] = 22\n",
    "df.loc[(df.Age.isnull()) & (df.Title == 'Mlle'), 'Age'] = 24\n",
    "df.loc[(df.Age.isnull()) & (df.Title == 'Mme'), 'Age'] = 24\n",
    "df.loc[(df.Age.isnull()) & (df.Title == 'Mr'), 'Age'] = 32\n",
    "df.loc[(df.Age.isnull()) & (df.Title == 'Mrs'), 'Age'] = 36\n",
    "df.loc[(df.Age.isnull()) & (df.Title == 'Ms'), 'Age'] = 28\n",
    "df.loc[(df.Age.isnull()) & (df.Title == 'Rev'), 'Age'] = 43\n",
    "df.loc[(df.Age.isnull()) & (df.Title == 'Sir'), 'Age'] = 49\n",
    "df.loc[(df.Age.isnull()) & (df.Title == 'the Countess'), 'Age'] = 33"
   ]
  },
  {
   "cell_type": "code",
   "execution_count": null,
   "metadata": {},
   "outputs": [],
   "source": []
  }
 ]
}